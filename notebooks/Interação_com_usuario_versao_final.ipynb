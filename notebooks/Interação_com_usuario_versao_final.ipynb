{
  "nbformat": 4,
  "nbformat_minor": 0,
  "metadata": {
    "colab": {
      "provenance": [],
      "collapsed_sections": [
        "yO4ZDEAprGnZ"
      ]
    },
    "kernelspec": {
      "name": "python3",
      "display_name": "Python 3"
    },
    "language_info": {
      "name": "python"
    }
  },
  "cells": [
    {
      "cell_type": "markdown",
      "source": [
        "Interação com usuario"
      ],
      "metadata": {
        "id": "T1_xkidcecjg"
      }
    },
    {
      "cell_type": "markdown",
      "source": [
        "#importação de bibliotecas e def da função\n"
      ],
      "metadata": {
        "id": "yO4ZDEAprGnZ"
      }
    },
    {
      "cell_type": "code",
      "source": [
        "from pandas.core.arrays.categorical import CategoricalAccessor\n",
        "import datetime\n",
        "from datetime import date\n",
        "import pandas as pd\n",
        "from google.colab import drive\n",
        "import joblib\n",
        "# Acesso ao Google Drive\n",
        "drive.mount('/content/drive')"
      ],
      "metadata": {
        "colab": {
          "base_uri": "https://localhost:8080/"
        },
        "id": "2VpXcVYqe5gz",
        "outputId": "d153aabc-0e12-4454-f521-4e2ea9a94fae"
      },
      "execution_count": null,
      "outputs": [
        {
          "output_type": "stream",
          "name": "stdout",
          "text": [
            "Mounted at /content/drive\n"
          ]
        }
      ]
    },
    {
      "cell_type": "code",
      "source": [
        "\n",
        "def predicao(data_input,Hora_início,Minuto_início,Hora_fim,Minuto_fim,Feriado_input,Categoria,modelo):\n",
        "  #formata input de data\n",
        "  data_input = data_input.split('-')\n",
        "  dia = float(data_input[2])\n",
        "  mes = float(data_input[1])\n",
        "  ano = float(data_input[0])\n",
        "  data_input = datetime.date(int(data_input[0]), int(data_input[1]), int(data_input[2]))\n",
        "  Dia_da_semana = data_input.weekday()\n",
        "  \n",
        "  #Mensagem de erro se colocar o ano maior que 2100\n",
        "  if ano > 2100:\n",
        "     print('Ano invalido, coloque um valor menor que 2100')\n",
        "  \n",
        "  #Conversão de tempo para números que o modelo entende\n",
        "  Hora_início = Hora_início + (Minuto_início/60)\n",
        "  Hora_fim = Hora_fim + (Minuto_fim/60)\n",
        "  horarios = [Hora_início]\n",
        "  h = Hora_início+5/60\n",
        "  while h<Hora_fim:\n",
        "\n",
        "    horarios.append(h)\n",
        "    h+=5/60\n",
        "  \n",
        "  horarios.append(Hora_fim)\n",
        "\n",
        "  #formatação de dia da semana para o modelo\n",
        "  S = [0,0,0,0,0,0,0,0]              \n",
        "  if Dia_da_semana == 'Domingo':\n",
        "      S[1] = 1\n",
        "  elif Dia_da_semana == 'Segunda-Feira':\n",
        "      S[2] = 1\n",
        "  elif Dia_da_semana == 'Terça-Feira':\n",
        "      S[3] = 1\n",
        "  elif Dia_da_semana == 'Quarta-Feira':\n",
        "      S[4] = 1\n",
        "  elif Dia_da_semana == 'Quinta-Feira':\n",
        "      S[5] = 1\n",
        "  elif Dia_da_semana == 'Sexta-Feira':\n",
        "      S[6] = 1\n",
        "  else:\n",
        "      S[7] = 1\n",
        "\n",
        "  #formatação input 'categoria'\n",
        "  Categorias =[0,0,0,0,0,0,0,0,0,0,0,0,0,0,0,0,0,0,0,0,0,0,0,0,0,0,0,0,0,0,0,0,0,0,0,0,0,0,0,0,0,0]\n",
        "  if Categoria == 'Jornalismo':\n",
        "    Categorias[13] = 1 \n",
        "  elif Categoria == 'Auditório':\n",
        "    Categorias[0] = 1 \n",
        "  elif Categoria == 'Filme':\n",
        "    Categorias[9] = 1 \n",
        "  elif Categoria == 'Novela':\n",
        "    Categorias[17] = 1 \n",
        "  elif Categoria == 'Series':\n",
        "    Categorias[27] = 1 \n",
        "  elif Categoria == 'Entrevista':\n",
        "    Categorias[6] = 1 \n",
        "  elif Categoria == 'Reality show':\n",
        "    Categorias[21] = 1 \n",
        "  elif Categoria == 'BBB':\n",
        "    Categorias[22] = 1 \n",
        "  elif Categoria == 'Humorístico':\n",
        "    Categorias[12] = 1 \n",
        "  elif Categoria == 'Reportagem':\n",
        "    Categorias[24] = 1 \n",
        "  elif Categoria == 'Educativo':\n",
        "    Categorias[5] = 1 \n",
        "  elif Categoria == 'Documentário':\n",
        "    Categorias[4] = 1 \n",
        "  elif Categoria == 'Futebol':\n",
        "    Categorias[10] = 1 \n",
        "  elif Categoria == 'Esporte':\n",
        "    Categorias[7] = 1 \n",
        "  elif Categoria == 'Político':\n",
        "    Categorias[19] = 1 \n",
        "  elif Categoria == 'Show':\n",
        "    Categorias[27] = 1 \n",
        "  elif Categoria == 'Feminino':\n",
        "    Categorias[8] = 1 \n",
        "  elif Categoria == 'Debate':\n",
        "    Categorias[3] = 1 \n",
        "  elif Categoria == 'Musical':\n",
        "    Categorias[15] = 1 \n",
        "  elif Categoria == 'Religioso':\n",
        "    Categorias[23] = 1 \n",
        "  elif Categoria == 'Sorteio':\n",
        "    Categorias[28] = 1 \n",
        "  elif Categoria == 'Minissérie':\n",
        "    Categorias[14] = 1 \n",
        "  elif Categoria == 'Não consta':\n",
        "    Categorias[16] = 1 \n",
        "  elif Categoria == 'Outros':\n",
        "    Categorias[18] = 1 \n",
        "  elif Categoria == 'Culinário':\n",
        "    Categorias[2] = 1 \n",
        "  elif Categoria == 'Televendas':\n",
        "    Categorias[29] = 1 \n",
        "  elif Categoria == 'Rural':\n",
        "    Categorias[25] = 1 \n",
        "  elif Categoria == 'Carros e motores':\n",
        "    Categorias[1] = 1 \n",
        "  elif Categoria == 'Premiação':\n",
        "    Categorias[20] = 1 \n",
        "  elif Categoria == 'Game show':\n",
        "    Categorias[12] = 1 \n",
        "  elif Categoria == 'JOGOS OLIMP INVERNO MAD':\n",
        "    Categorias[30] = 1 \n",
        "  elif Categoria == 'JOGOS OLIMPICOS MAD':\n",
        "    Categorias[31] = 1 \n",
        "  elif Categoria == 'JOGOS OLIMPICOS MAD CONT':\n",
        "    Categorias[32] = 1 \n",
        "  elif Categoria == 'JOGOS OLIMPICOS MAT':\n",
        "    Categorias[33] = 1 \n",
        "  elif Categoria == 'JOGOS OLIMPICOS MAT ANT':\n",
        "    Categorias[34] = 1 \n",
        "  elif Categoria == 'JOGOS OLIMPICOS NOT':\n",
        "    Categorias[35] = 1 \n",
        "  elif Categoria == 'JOGOS PARALIMPICOS MAT':\n",
        "    Categorias[36] = 1 \n",
        "  elif Categoria == 'JOGOS PARALIMPICOS MAT ANT':\n",
        "    Categorias[37] = 1 \n",
        "  elif Categoria == 'INFANTIL':\n",
        "    Categorias[38] = 1 \n",
        "  elif Categoria == 'SAUDE':\n",
        "    Categorias[39] = 1 \n",
        "  elif Categoria == 'DESENHO ADULTO':\n",
        "    Categorias[40] = 1 \n",
        "  elif Categoria == 'COPA DO MUNDO':\n",
        "    Categorias[41] = 1 \n",
        "\n",
        "  #Cria um dataSet de saída\n",
        "  column_names = ['Hora', 'Prediction', 'Acurácia']\n",
        "  resultadoOutput = pd.DataFrame(columns = column_names)\n",
        "\n",
        "  #importa modelo treinado\n",
        "  model = joblib.load(f'/content/drive/Shareddrives/hefEStos: arquivo X/treinados/{modelo}')\n",
        "  print(model)\n",
        "\n",
        "  #para cada horario no intervalo do input, é feita a predição com os parametros passados\n",
        "  for i in horarios:\n",
        "    predict = {'Dia' : dia,\n",
        "           'Mes' : mes,\n",
        "           'Ano' : ano,\n",
        "           'Dia da Semana_Segunda' : S[2],\n",
        "           'Dia da Semana_Terça' : S[3],\n",
        "           'Dia da Semana_Quarta' : S[4],\n",
        "           'Dia da Semana_Quinta' : S[5],\n",
        "           'Dia da Semana_Sexta' : S[6],\n",
        "           'Dia da Semana_Sábado' : S[7],\n",
        "           'Dia da Semana_Domingo' : S[1],\n",
        "           'Hora Início': i,\n",
        "           'Feriado': Feriado_input,\n",
        "           'Categoria_1': [Categorias[0]],\n",
        "           'Categoria_2': [Categorias[1]],\n",
        "           'Categoria_3': [Categorias[2]],\n",
        "           'Categoria_4': [Categorias[3]],\n",
        "           'Categoria_5': [Categorias[4]],\n",
        "           'Categoria_6': [Categorias[5]],\n",
        "           'Categoria_7': [Categorias[6]],\n",
        "           'Categoria_8': [Categorias[7]],\n",
        "           'Categoria_9': [Categorias[8]],\n",
        "           'Categoria_10': [Categorias[9]],\n",
        "           'Categoria_11': [Categorias[10]],\n",
        "           'Categoria_12': [Categorias[11]],\n",
        "           'Categoria_13': [Categorias[12]],\n",
        "           'Categoria_14': [Categorias[13]],\n",
        "           'Categoria_15': [Categorias[14]],\n",
        "           'Categoria_16': [Categorias[15]],\n",
        "           'Categoria_17': [Categorias[16]],\n",
        "           'Categoria_18': [Categorias[17]],\n",
        "           'Categoria_19': [Categorias[18]],\n",
        "           'Categoria_20': [Categorias[19]],\n",
        "           'Categoria_21': [Categorias[20]],\n",
        "           'Categoria_22': [Categorias[21]],\n",
        "           'Categoria_23': [Categorias[22]],\n",
        "           'Categoria_24': [Categorias[23]],\n",
        "           'Categoria_25': [Categorias[24]],\n",
        "           'Categoria_26': [Categorias[25]],\n",
        "           'Categoria_27': [Categorias[26]],\n",
        "           'Categoria_28': [Categorias[27]],\n",
        "           'Categoria_29': [Categorias[28]],\n",
        "           'Categoria_30': [Categorias[29]],\n",
        "           'Categoria_31': [Categorias[30]],\n",
        "           'Categoria_32': [Categorias[31]],\n",
        "           'Categoria_33': [Categorias[32]],\n",
        "           'Categoria_34': [Categorias[33]],\n",
        "           'Categoria_35': [Categorias[34]],\n",
        "           'Categoria_36': [Categorias[35]],\n",
        "           'Categoria_37': [Categorias[36]],\n",
        "           'Categoria_38': [Categorias[37]],\n",
        "           'Categoria_39': [Categorias[38]],\n",
        "           'Categoria_40': [Categorias[39]],\n",
        "           'Categoria_41': [Categorias[40]],\n",
        "           'Categoria_42': [Categorias[41]]\n",
        "           }\n",
        "    \n",
        "    X_pred_user = pd.DataFrame(predict)\n",
        "    \n",
        "    #arruma ordem dos parametros\n",
        "    X_pred_user = X_pred_user[['Hora Início', 'Feriado', 'Categoria_37', 'Categoria_38', 'Categoria_1',\n",
        "       'Categoria_10', 'Categoria_11', 'Categoria_12', 'Categoria_13',\n",
        "       'Categoria_14', 'Categoria_15', 'Categoria_16', 'Categoria_17',\n",
        "       'Categoria_18', 'Categoria_19', 'Categoria_2', 'Categoria_20',\n",
        "       'Categoria_21', 'Categoria_22', 'Categoria_23', 'Categoria_24',\n",
        "       'Categoria_25', 'Categoria_26', 'Categoria_27', 'Categoria_28',\n",
        "       'Categoria_29', 'Categoria_3', 'Categoria_30', 'Categoria_31',\n",
        "       'Categoria_32', 'Categoria_33', 'Categoria_34', 'Categoria_35',\n",
        "       'Categoria_36', 'Categoria_39', 'Categoria_4', 'Categoria_40',\n",
        "       'Categoria_41', 'Categoria_42', 'Categoria_5', 'Categoria_6',\n",
        "       'Categoria_7', 'Categoria_8', 'Categoria_9', 'Dia', 'Mes', 'Ano',\n",
        "       'Dia da Semana_Domingo', 'Dia da Semana_Quarta', 'Dia da Semana_Quinta',\n",
        "       'Dia da Semana_Segunda', 'Dia da Semana_Sexta', 'Dia da Semana_Sábado',\n",
        "       'Dia da Semana_Terça']]\n",
        "    \n",
        "    \n",
        "    y_pred_user = model.predict(X_pred_user, num_iteration = model.best_iteration_)\n",
        "    results = {'Hora': i, 'Prediction': y_pred_user}\n",
        "    df_results = pd.DataFrame(results)\n",
        "    #print(results)\n",
        "    if y_pred_user[0]<0:\n",
        "      resultadoOutput = resultadoOutput.append({'Hora': i, 'Prediction': 0}, ignore_index = True)\n",
        "    else:\n",
        "      resultadoOutput = resultadoOutput.append({'Hora': i, 'Prediction': y_pred_user[0]}, ignore_index = True)\n",
        "  grafico = resultadoOutput.plot(x = 'Hora', y = 'Prediction')\n",
        "  media = resultadoOutput['Prediction'].mean()\n",
        "  return(grafico, f'media de audiencia: {media}%')\n",
        "\n",
        "  \n",
        "          "
      ],
      "metadata": {
        "id": "TW_RLwNRetBJ"
      },
      "execution_count": null,
      "outputs": []
    },
    {
      "cell_type": "markdown",
      "source": [
        "#Saída"
      ],
      "metadata": {
        "id": "j6GkLy82sRGl"
      }
    },
    {
      "cell_type": "code",
      "source": [
        "data_input = '2022-11-30' #@param {type:\"date\"}\n",
        "Hora_início = 10 #@param {type:\"number\"}\n",
        "Minuto_início = 00 #@param {type:\"number\"}\n",
        "Hora_fim = 11 #@param {type:\"number\"}\n",
        "Minuto_fim = 00 #@param {type:\"number\"}\n",
        "Feriado_input = False #@param {type:\"boolean\"}\n",
        "Categoria = 'Auditório' #@param [\"Jornalismo\", \"Auditório\", \"Filme\", \"Novela\", \"Series\", \"Entrevista\", \"Reality show\", \"BBB\", \"Humorístico\", \"Reportagem\", \"Educativo\", \"Documentário\", \"Futebol\", \"Esporte\", \"Político\", \"Show\", \"Feminino\", \"Debate\", \"Musical\", \"Religioso\", \"Sorteio\", \"Minissérie\", \"Não consta\", \"Outros\", \"Culinário\", \"Televendas\", \"Rural\", \"Carros e motores\", \"Premiação\", \"Game show\", \"JOGOS OLIMP INVERNO MAD\",\"JOGOS OLIMPICOS MAD\",\"JOGOS OLIMPICOS MAD CONT\",\"JOGOS OLIMPICOS MAT\",\"JOGOS OLIMPICOS MAT ANT\",\"JOGOS OLIMPICOS NOT\",\"JOGOS PARALIMPICOS MAT\", \"JOGOS PARALIMPICOS MAT ANT\", \"INFANTIL\", \"SAUDE\", \"DESENHO ADULTO\", \"COPA DO MUNDO\"]\n",
        "modelo = \"lgbm_tot_rat%.pkl\"#@param ['lgbm_12_17_fid%.pkl','lgbm_12_17_rat%.pkl','lgbm_12_17_shr%.pkl','lgbm_18_24_fid%.pkl','lgbm_18_24_rat%.pkl','lgbm_18_24_shr%.pkl', 'lgbm_25_34_fid%.pkl', 'lgbm_25_34_rat%.pkl', 'lgbm_25_34_shr%.pkl', 'lgbm_35_49_fid%.pkl', 'lgbm_35_49_rat%.pkl', 'lgbm_35_49_shr%.pkl', 'lgbm_4_11_fid%.pkl', 'lgbm_4_11_rat%.pkl', 'lgbm_4_11_shr%.pkl', 'lgbm_50_59_fid%.pkl', 'lgbm_50_59_rat%.pkl','lgbm_50_59_shr%.pkl', 'lgbm_60+_rat%.pkl', 'lgbm_60_fid%.pkl','lgbm_60_shr%.pkl', 'lgbm_AB_rat%.pkl', 'lgbm_AB_shr%.pkl', 'lgbm_C1_rat%.pkl', 'lgbm_C1_shr%.pkl', 'lgbm_C2_rat%.pkl', 'lgbm_C2_shr%.pkl', 'lgbm_DE_rat%.pkl', 'lgbm_DE_shr%.pkl', 'lgbm_ab_fid%.pkl', 'lgbm_c1_fid%.pkl', 'lgbm_c2_fid%.pkl', 'lgbm_de_fid%.pkl', 'lgbm_fem_fid%.pkl', 'lgbm_fem_rat%.pkl', 'lgbm_fem_shr%.pkl', 'lgbm_masc_fid%.pkl', 'lgbm_masc_rat%.pkl','lgbm_masc_shr%.pkl', 'lgbm_tot_rat%.pkl', 'lgbm_tot_shr%.pkl']\n",
        "\n",
        "predicao(data_input,Hora_início,Minuto_início,Hora_fim,Minuto_fim,Feriado_input,Categoria,modelo)\n"
      ],
      "metadata": {
        "colab": {
          "base_uri": "https://localhost:8080/",
          "height": 369
        },
        "id": "1E3t8lIFk0PK",
        "outputId": "a0cbdb19-3f57-4ee8-ced7-d2a70d7cb7af"
      },
      "execution_count": null,
      "outputs": [
        {
          "output_type": "stream",
          "name": "stdout",
          "text": [
            "LGBMRegressor(feature_fraction=1, learning_rate=0.5, max_depth=16,\n",
            "              metric=['l1', 'l2'], num_iterations=20000, num_leaves=256,\n",
            "              objective='regression', task='train', verbose=0)\n"
          ]
        },
        {
          "output_type": "execute_result",
          "data": {
            "text/plain": [
              "(<matplotlib.axes._subplots.AxesSubplot at 0x7f1b0c5cefd0>,\n",
              " 'media de audiencia: 2.884492930175015%')"
            ]
          },
          "metadata": {},
          "execution_count": 3
        },
        {
          "output_type": "display_data",
          "data": {
            "text/plain": [
              "<Figure size 432x288 with 1 Axes>"
            ],
            "image/png": "[encoded data removed]"
          },
          "metadata": {
            "needs_background": "light"
          }
        }
      ]
    }
  ]
}