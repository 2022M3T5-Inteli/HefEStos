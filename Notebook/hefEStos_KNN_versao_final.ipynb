{
  "cells": [
    {
      "cell_type": "markdown",
      "metadata": {
        "id": "kohAmsqQBY-A"
      },
      "source": [
        "#Importação de bibliotecas e arquivos"
      ]
    },
    {
      "cell_type": "code",
      "execution_count": null,
      "metadata": {
        "colab": {
          "base_uri": "https://localhost:8080/",
          "height": 349
        },
        "id": "vhbOnS7xyr9N",
        "outputId": "cea445a8-4d42-49ec-b5af-b296fd505352"
      },
      "outputs": [
        {
          "output_type": "stream",
          "name": "stdout",
          "text": [
            "Mounted at /content/drive\n"
          ]
        },
        {
          "output_type": "stream",
          "name": "stderr",
          "text": [
            "/usr/local/lib/python3.7/dist-packages/IPython/core/interactiveshell.py:3326: DtypeWarning: Columns (31) have mixed types.Specify dtype option on import or set low_memory=False.\n",
            "  exec(code_obj, self.user_global_ns, self.user_ns)\n"
          ]
        },
        {
          "output_type": "execute_result",
          "data": {
            "text/plain": [
              "   Unnamed: 0  Hora Início  Dia da Semana  Total Domicílios | Rat%  AB | Rat%  \\\n",
              "0           0     6.000000              5                     1.09        0.0   \n",
              "1           1     6.083333              5                     1.09        0.0   \n",
              "2           2     6.166667              5                     1.09        0.0   \n",
              "3           3     6.250000              5                     1.09        0.0   \n",
              "4           4     6.333333              5                     1.09        0.0   \n",
              "\n",
              "   C1 | Rat%  C2 | Rat%  DE | Rat%  Masculino | Rat%  Feminino | Rat%  ...  \\\n",
              "0       1.52        0.0        0.0               0.3              0.4  ...   \n",
              "1       1.52        0.0        0.0               0.3              0.4  ...   \n",
              "2       1.52        0.0        0.0               0.3              0.4  ...   \n",
              "3       1.52        0.0        0.0               0.3              0.4  ...   \n",
              "4       1.52        0.0        0.0               0.3              0.4  ...   \n",
              "\n",
              "   Categoria_41  Categoria_42  Categoria_5  Categoria_6  Categoria_7  \\\n",
              "0             0             0            0            0            0   \n",
              "1             0             0            0            0            0   \n",
              "2             0             0            0            0            0   \n",
              "3             0             0            0            0            0   \n",
              "4             0             0            0            0            0   \n",
              "\n",
              "   Categoria_8  Categoria_9  Dia  Mes   Ano  \n",
              "0            0            0    1    1  2015  \n",
              "1            0            0    1    1  2015  \n",
              "2            0            0    1    1  2015  \n",
              "3            0            0    1    1  2015  \n",
              "4            0            0    1    1  2015  \n",
              "\n",
              "[5 rows x 91 columns]"
            ],
            "text/html": [
              "\n",
              "  <div id=\"df-55d2ad91-8915-4151-ba6a-46cf5e733e17\">\n",
              "    <div class=\"colab-df-container\">\n",
              "      <div>\n",
              "<style scoped>\n",
              "    .dataframe tbody tr th:only-of-type {\n",
              "        vertical-align: middle;\n",
              "    }\n",
              "\n",
              "    .dataframe tbody tr th {\n",
              "        vertical-align: top;\n",
              "    }\n",
              "\n",
              "    .dataframe thead th {\n",
              "        text-align: right;\n",
              "    }\n",
              "</style>\n",
              "<table border=\"1\" class=\"dataframe\">\n",
              "  <thead>\n",
              "    <tr style=\"text-align: right;\">\n",
              "      <th></th>\n",
              "      <th>Unnamed: 0</th>\n",
              "      <th>Hora Início</th>\n",
              "      <th>Dia da Semana</th>\n",
              "      <th>Total Domicílios | Rat%</th>\n",
              "      <th>AB | Rat%</th>\n",
              "      <th>C1 | Rat%</th>\n",
              "      <th>C2 | Rat%</th>\n",
              "      <th>DE | Rat%</th>\n",
              "      <th>Masculino | Rat%</th>\n",
              "      <th>Feminino | Rat%</th>\n",
              "      <th>...</th>\n",
              "      <th>Categoria_41</th>\n",
              "      <th>Categoria_42</th>\n",
              "      <th>Categoria_5</th>\n",
              "      <th>Categoria_6</th>\n",
              "      <th>Categoria_7</th>\n",
              "      <th>Categoria_8</th>\n",
              "      <th>Categoria_9</th>\n",
              "      <th>Dia</th>\n",
              "      <th>Mes</th>\n",
              "      <th>Ano</th>\n",
              "    </tr>\n",
              "  </thead>\n",
              "  <tbody>\n",
              "    <tr>\n",
              "      <th>0</th>\n",
              "      <td>0</td>\n",
              "      <td>6.000000</td>\n",
              "      <td>5</td>\n",
              "      <td>1.09</td>\n",
              "      <td>0.0</td>\n",
              "      <td>1.52</td>\n",
              "      <td>0.0</td>\n",
              "      <td>0.0</td>\n",
              "      <td>0.3</td>\n",
              "      <td>0.4</td>\n",
              "      <td>...</td>\n",
              "      <td>0</td>\n",
              "      <td>0</td>\n",
              "      <td>0</td>\n",
              "      <td>0</td>\n",
              "      <td>0</td>\n",
              "      <td>0</td>\n",
              "      <td>0</td>\n",
              "      <td>1</td>\n",
              "      <td>1</td>\n",
              "      <td>2015</td>\n",
              "    </tr>\n",
              "    <tr>\n",
              "      <th>1</th>\n",
              "      <td>1</td>\n",
              "      <td>6.083333</td>\n",
              "      <td>5</td>\n",
              "      <td>1.09</td>\n",
              "      <td>0.0</td>\n",
              "      <td>1.52</td>\n",
              "      <td>0.0</td>\n",
              "      <td>0.0</td>\n",
              "      <td>0.3</td>\n",
              "      <td>0.4</td>\n",
              "      <td>...</td>\n",
              "      <td>0</td>\n",
              "      <td>0</td>\n",
              "      <td>0</td>\n",
              "      <td>0</td>\n",
              "      <td>0</td>\n",
              "      <td>0</td>\n",
              "      <td>0</td>\n",
              "      <td>1</td>\n",
              "      <td>1</td>\n",
              "      <td>2015</td>\n",
              "    </tr>\n",
              "    <tr>\n",
              "      <th>2</th>\n",
              "      <td>2</td>\n",
              "      <td>6.166667</td>\n",
              "      <td>5</td>\n",
              "      <td>1.09</td>\n",
              "      <td>0.0</td>\n",
              "      <td>1.52</td>\n",
              "      <td>0.0</td>\n",
              "      <td>0.0</td>\n",
              "      <td>0.3</td>\n",
              "      <td>0.4</td>\n",
              "      <td>...</td>\n",
              "      <td>0</td>\n",
              "      <td>0</td>\n",
              "      <td>0</td>\n",
              "      <td>0</td>\n",
              "      <td>0</td>\n",
              "      <td>0</td>\n",
              "      <td>0</td>\n",
              "      <td>1</td>\n",
              "      <td>1</td>\n",
              "      <td>2015</td>\n",
              "    </tr>\n",
              "    <tr>\n",
              "      <th>3</th>\n",
              "      <td>3</td>\n",
              "      <td>6.250000</td>\n",
              "      <td>5</td>\n",
              "      <td>1.09</td>\n",
              "      <td>0.0</td>\n",
              "      <td>1.52</td>\n",
              "      <td>0.0</td>\n",
              "      <td>0.0</td>\n",
              "      <td>0.3</td>\n",
              "      <td>0.4</td>\n",
              "      <td>...</td>\n",
              "      <td>0</td>\n",
              "      <td>0</td>\n",
              "      <td>0</td>\n",
              "      <td>0</td>\n",
              "      <td>0</td>\n",
              "      <td>0</td>\n",
              "      <td>0</td>\n",
              "      <td>1</td>\n",
              "      <td>1</td>\n",
              "      <td>2015</td>\n",
              "    </tr>\n",
              "    <tr>\n",
              "      <th>4</th>\n",
              "      <td>4</td>\n",
              "      <td>6.333333</td>\n",
              "      <td>5</td>\n",
              "      <td>1.09</td>\n",
              "      <td>0.0</td>\n",
              "      <td>1.52</td>\n",
              "      <td>0.0</td>\n",
              "      <td>0.0</td>\n",
              "      <td>0.3</td>\n",
              "      <td>0.4</td>\n",
              "      <td>...</td>\n",
              "      <td>0</td>\n",
              "      <td>0</td>\n",
              "      <td>0</td>\n",
              "      <td>0</td>\n",
              "      <td>0</td>\n",
              "      <td>0</td>\n",
              "      <td>0</td>\n",
              "      <td>1</td>\n",
              "      <td>1</td>\n",
              "      <td>2015</td>\n",
              "    </tr>\n",
              "  </tbody>\n",
              "</table>\n",
              "<p>5 rows × 91 columns</p>\n",
              "</div>\n",
              "      <button class=\"colab-df-convert\" onclick=\"convertToInteractive('df-55d2ad91-8915-4151-ba6a-46cf5e733e17')\"\n",
              "              title=\"Convert this dataframe to an interactive table.\"\n",
              "              style=\"display:none;\">\n",
              "        \n",
              "  <svg xmlns=\"http://www.w3.org/2000/svg\" height=\"24px\"viewBox=\"0 0 24 24\"\n",
              "       width=\"24px\">\n",
              "    <path d=\"M0 0h24v24H0V0z\" fill=\"none\"/>\n",
              "    <path d=\"M18.56 5.44l.94 2.06.94-2.06 2.06-.94-2.06-.94-.94-2.06-.94 2.06-2.06.94zm-11 1L8.5 8.5l.94-2.06 2.06-.94-2.06-.94L8.5 2.5l-.94 2.06-2.06.94zm10 10l.94 2.06.94-2.06 2.06-.94-2.06-.94-.94-2.06-.94 2.06-2.06.94z\"/><path d=\"M17.41 7.96l-1.37-1.37c-.4-.4-.92-.59-1.43-.59-.52 0-1.04.2-1.43.59L10.3 9.45l-7.72 7.72c-.78.78-.78 2.05 0 2.83L4 21.41c.39.39.9.59 1.41.59.51 0 1.02-.2 1.41-.59l7.78-7.78 2.81-2.81c.8-.78.8-2.07 0-2.86zM5.41 20L4 18.59l7.72-7.72 1.47 1.35L5.41 20z\"/>\n",
              "  </svg>\n",
              "      </button>\n",
              "      \n",
              "  <style>\n",
              "    .colab-df-container {\n",
              "      display:flex;\n",
              "      flex-wrap:wrap;\n",
              "      gap: 12px;\n",
              "    }\n",
              "\n",
              "    .colab-df-convert {\n",
              "      background-color: #E8F0FE;\n",
              "      border: none;\n",
              "      border-radius: 50%;\n",
              "      cursor: pointer;\n",
              "      display: none;\n",
              "      fill: #1967D2;\n",
              "      height: 32px;\n",
              "      padding: 0 0 0 0;\n",
              "      width: 32px;\n",
              "    }\n",
              "\n",
              "    .colab-df-convert:hover {\n",
              "      background-color: #E2EBFA;\n",
              "      box-shadow: 0px 1px 2px rgba(60, 64, 67, 0.3), 0px 1px 3px 1px rgba(60, 64, 67, 0.15);\n",
              "      fill: #174EA6;\n",
              "    }\n",
              "\n",
              "    [theme=dark] .colab-df-convert {\n",
              "      background-color: #3B4455;\n",
              "      fill: #D2E3FC;\n",
              "    }\n",
              "\n",
              "    [theme=dark] .colab-df-convert:hover {\n",
              "      background-color: #434B5C;\n",
              "      box-shadow: 0px 1px 3px 1px rgba(0, 0, 0, 0.15);\n",
              "      filter: drop-shadow(0px 1px 2px rgba(0, 0, 0, 0.3));\n",
              "      fill: #FFFFFF;\n",
              "    }\n",
              "  </style>\n",
              "\n",
              "      <script>\n",
              "        const buttonEl =\n",
              "          document.querySelector('#df-55d2ad91-8915-4151-ba6a-46cf5e733e17 button.colab-df-convert');\n",
              "        buttonEl.style.display =\n",
              "          google.colab.kernel.accessAllowed ? 'block' : 'none';\n",
              "\n",
              "        async function convertToInteractive(key) {\n",
              "          const element = document.querySelector('#df-55d2ad91-8915-4151-ba6a-46cf5e733e17');\n",
              "          const dataTable =\n",
              "            await google.colab.kernel.invokeFunction('convertToInteractive',\n",
              "                                                     [key], {});\n",
              "          if (!dataTable) return;\n",
              "\n",
              "          const docLinkHtml = 'Like what you see? Visit the ' +\n",
              "            '<a target=\"_blank\" href=https://colab.research.google.com/notebooks/data_table.ipynb>data table notebook</a>'\n",
              "            + ' to learn more about interactive tables.';\n",
              "          element.innerHTML = '';\n",
              "          dataTable['output_type'] = 'display_data';\n",
              "          await google.colab.output.renderOutput(dataTable, element);\n",
              "          const docLink = document.createElement('div');\n",
              "          docLink.innerHTML = docLinkHtml;\n",
              "          element.appendChild(docLink);\n",
              "        }\n",
              "      </script>\n",
              "    </div>\n",
              "  </div>\n",
              "  "
            ]
          },
          "metadata": {},
          "execution_count": 1
        }
      ],
      "source": [
        "from sklearn.model_selection import train_test_split\n",
        "import pandas as pd\n",
        "import numpy as np\n",
        "from sklearn.neighbors import KNeighborsRegressor #regressor\n",
        "#------------------------- IMPORTAÇÃO DE TABELAS ----------------------------\n",
        "from google.colab import drive\n",
        "drive.mount('/content/drive')\n",
        "dataset = pd.read_csv('/content/drive/Shareddrives/hefEStos: arquivo X/DadosTratadosX_Label_encoding.csv')\n",
        "dataset.head()"
      ]
    },
    {
      "cell_type": "markdown",
      "source": [
        "## Separação de input e output"
      ],
      "metadata": {
        "id": "VWkOwrxtcSJC"
      }
    },
    {
      "cell_type": "code",
      "execution_count": null,
      "metadata": {
        "colab": {
          "base_uri": "https://localhost:8080/"
        },
        "id": "Gd5SMJH8cOnu",
        "outputId": "baf363af-190a-49cf-c91e-17e050dcce8e"
      },
      "outputs": [
        {
          "output_type": "execute_result",
          "data": {
            "text/plain": [
              "Index(['Hora Início', 'Dia da Semana', 'Total Domicílios | Rat%', 'AB | Rat%',\n",
              "       'C1 | Rat%', 'C2 | Rat%', 'DE | Rat%', 'Masculino | Rat%',\n",
              "       'Feminino | Rat%', '4-11 anos | Rat%', '12-17 anos | Rat%',\n",
              "       '18-24 anos | Rat%', '25-34 anos | Rat%', '35-49 anos | Rat%',\n",
              "       '50-59 anos | Rat%', '60+ anos | Rat%', 'Feriado', 'Categoria_37',\n",
              "       'Categoria_38', 'Categoria_1', 'Categoria_10', 'Categoria_11',\n",
              "       'Categoria_12', 'Categoria_13', 'Categoria_14', 'Categoria_15',\n",
              "       'Categoria_16', 'Categoria_17', 'Categoria_18', 'Categoria_19',\n",
              "       'Categoria_2', 'Categoria_20', 'Categoria_21', 'Categoria_22',\n",
              "       'Categoria_23', 'Categoria_24', 'Categoria_25', 'Categoria_26',\n",
              "       'Categoria_27', 'Categoria_28', 'Categoria_29', 'Categoria_3',\n",
              "       'Categoria_30', 'Categoria_31', 'Categoria_32', 'Categoria_33',\n",
              "       'Categoria_34', 'Categoria_35', 'Categoria_36', 'Categoria_39',\n",
              "       'Categoria_4', 'Categoria_40', 'Categoria_41', 'Categoria_42',\n",
              "       'Categoria_5', 'Categoria_6', 'Categoria_7', 'Categoria_8',\n",
              "       'Categoria_9', 'Dia', 'Mes', 'Ano'],\n",
              "      dtype='object')"
            ]
          },
          "metadata": {},
          "execution_count": 2
        }
      ],
      "source": [
        "dataset = dataset.drop('Total Indivíduos | Rch%', axis = 1)\n",
        "dataset = dataset.drop('AB | Rch%', axis = 1)\n",
        "dataset = dataset.drop('C1 | Rch%', axis = 1)\n",
        "dataset = dataset.drop('C2 | Rch%', axis = 1)\n",
        "dataset = dataset.drop('DE | Rch%', axis = 1)\n",
        "dataset = dataset.drop('Masculino | Rch%', axis = 1)\n",
        "dataset = dataset.drop('Feminino | Rch%', axis = 1)\n",
        "dataset = dataset.drop('4-11 anos | Rch%', axis = 1)\n",
        "dataset = dataset.drop('12-17 anos | Rch%', axis = 1)\n",
        "dataset = dataset.drop('18-24 anos | Rch%', axis = 1)\n",
        "dataset = dataset.drop('25-34 anos | Rch%', axis = 1)\n",
        "dataset = dataset.drop('35-49 anos | Rch%', axis = 1)\n",
        "dataset = dataset.drop('50-59 anos | Rch%', axis = 1)\n",
        "dataset = dataset.drop('60+ anos | Rch%', axis = 1)\n",
        "dataset = dataset.drop('Total Domicílios | Shr%', axis = 1)\n",
        "dataset = dataset.drop('AB | Shr%', axis = 1)\n",
        "dataset = dataset.drop('C1 | Shr%', axis = 1)\n",
        "dataset = dataset.drop('C2 | Shr%', axis = 1)\n",
        "dataset = dataset.drop('DE | Shr%', axis = 1)\n",
        "dataset = dataset.drop('Masculino | Shr%', axis = 1)\n",
        "dataset = dataset.drop('Feminino | Shr%', axis = 1)\n",
        "dataset = dataset.drop('4-11 anos | Shr%', axis = 1)\n",
        "dataset = dataset.drop('12-17 anos | Shr%', axis = 1)\n",
        "dataset = dataset.drop('18-24 anos | Shr%', axis = 1)\n",
        "dataset = dataset.drop('25-34 anos | Shr%', axis = 1)\n",
        "dataset = dataset.drop('35-49 anos | Shr%', axis = 1)\n",
        "dataset = dataset.drop('50-59 anos | Shr%', axis = 1)\n",
        "dataset = dataset.drop('60+ anos | Shr%', axis = 1)\n",
        "dataset = dataset.drop('Unnamed: 0', axis = 1)\n",
        "dataset.columns"
      ]
    },
    {
      "cell_type": "code",
      "execution_count": null,
      "metadata": {
        "colab": {
          "base_uri": "https://localhost:8080/"
        },
        "id": "GtHQocJEJdkh",
        "outputId": "54a397d4-f48c-4a10-876f-43af5528f657"
      },
      "outputs": [
        {
          "output_type": "execute_result",
          "data": {
            "text/plain": [
              "Index(['Hora Início', 'Dia da Semana', 'Feriado', 'Categoria_37',\n",
              "       'Categoria_38', 'Categoria_1', 'Categoria_10', 'Categoria_11',\n",
              "       'Categoria_12', 'Categoria_13', 'Categoria_14', 'Categoria_15',\n",
              "       'Categoria_16', 'Categoria_17', 'Categoria_18', 'Categoria_19',\n",
              "       'Categoria_2', 'Categoria_20', 'Categoria_21', 'Categoria_22',\n",
              "       'Categoria_23', 'Categoria_24', 'Categoria_25', 'Categoria_26',\n",
              "       'Categoria_27', 'Categoria_28', 'Categoria_29', 'Categoria_3',\n",
              "       'Categoria_30', 'Categoria_31', 'Categoria_32', 'Categoria_33',\n",
              "       'Categoria_34', 'Categoria_35', 'Categoria_36', 'Categoria_39',\n",
              "       'Categoria_4', 'Categoria_40', 'Categoria_41', 'Categoria_42',\n",
              "       'Categoria_5', 'Categoria_6', 'Categoria_7', 'Categoria_8',\n",
              "       'Categoria_9', 'Dia', 'Mes', 'Ano'],\n",
              "      dtype='object')"
            ]
          },
          "metadata": {},
          "execution_count": 3
        }
      ],
      "source": [
        "dataset_train = dataset\n",
        "y = dataset_train['Total Domicílios | Rat%']\n",
        "#remoção do output desejado\n",
        "dataset_train.drop(['Total Domicílios | Rat%'], axis=1, inplace=True)\n",
        "dataset_train.drop(['Masculino | Rat%'], axis=1, inplace=True)\n",
        "dataset_train.drop(['Feminino | Rat%'], axis=1, inplace=True)\n",
        "dataset_train.drop(['AB | Rat%'], axis=1, inplace=True)\n",
        "dataset_train.drop(['C1 | Rat%'], axis=1, inplace=True)\n",
        "dataset_train.drop(['C2 | Rat%'], axis=1, inplace=True)\n",
        "dataset_train.drop(['DE | Rat%'], axis=1, inplace=True)\n",
        "dataset_train.drop(['4-11 anos | Rat%'], axis=1, inplace=True)\n",
        "dataset_train.drop(['12-17 anos | Rat%'], axis=1, inplace=True)\n",
        "dataset_train.drop(['18-24 anos | Rat%'], axis=1, inplace=True)\n",
        "dataset_train.drop(['25-34 anos | Rat%'], axis=1, inplace=True)\n",
        "dataset_train.drop(['35-49 anos | Rat%'], axis=1, inplace=True)\n",
        "dataset_train.drop(['50-59 anos | Rat%'], axis=1, inplace=True)\n",
        "dataset_train.drop(['60+ anos | Rat%'], axis=1, inplace=True)\n",
        "dataset_train.columns"
      ]
    },
    {
      "cell_type": "markdown",
      "source": [
        "## Treino e teste do modelo"
      ],
      "metadata": {
        "id": "_H7D0wArcWwv"
      }
    },
    {
      "cell_type": "code",
      "execution_count": null,
      "metadata": {
        "id": "BLf4yOCH0nqm"
      },
      "outputs": [],
      "source": [
        "#Definição de input\n",
        "X_train = dataset_train\n",
        "#Definição de teste\n",
        "X_train, X_test, y_train, y_test = train_test_split(dataset_train, y, test_size=0.15, random_state=1000)"
      ]
    },
    {
      "cell_type": "code",
      "execution_count": null,
      "metadata": {
        "colab": {
          "base_uri": "https://localhost:8080/"
        },
        "id": "kzng-PEhKCV_",
        "outputId": "17d314a9-7ab2-4f9e-e754-f41846610428"
      },
      "outputs": [
        {
          "output_type": "execute_result",
          "data": {
            "text/plain": [
              "array([ 7.335,  2.23 , 21.585, ..., 20.635, 23.33 , 11.375])"
            ]
          },
          "metadata": {},
          "execution_count": 6
        }
      ],
      "source": [
        "# realizando predições com o conjunto de teste\n",
        "y_pred = knn.predict(X_test)\n",
        "y_pred"
      ]
    },
    {
      "cell_type": "markdown",
      "source": [
        "##Avaliação do modelo"
      ],
      "metadata": {
        "id": "f8kcgSxqcONE"
      }
    },
    {
      "cell_type": "code",
      "execution_count": null,
      "metadata": {
        "colab": {
          "base_uri": "https://localhost:8080/"
        },
        "id": "W3uSUZFTFDGo",
        "outputId": "df6483f4-f128-4b46-d112-84ab2183c4ef"
      },
      "outputs": [
        {
          "output_type": "stream",
          "name": "stdout",
          "text": [
            "Acuracidade (treino):  0.9969375242569384\n",
            "Acuracidade (teste):  0.9902378045386647\n"
          ]
        }
      ],
      "source": [
        "# Instanciação do obj Algoritmo\n",
        "knn = KNeighborsRegressor(n_neighbors=2)\n",
        "# Treino # x = Features, y = Label/Target\n",
        "knn.fit(X_train, y_train) #squeeze() -> df para series\n",
        "# Teste de Acuracidade (accuracy)\n",
        "print('Acuracidade (treino): ', knn.score( X_train, y_train ))\n",
        "print('Acuracidade (teste): ', knn.score( X_test, y_test ))"
      ]
    },
    {
      "cell_type": "code",
      "execution_count": null,
      "metadata": {
        "colab": {
          "base_uri": "https://localhost:8080/"
        },
        "id": "iwJ6MESJnKuM",
        "outputId": "431abb00-d06f-4474-a1da-de2018852b19"
      },
      "outputs": [
        {
          "output_type": "execute_result",
          "data": {
            "text/plain": [
              "0.6169782726873067"
            ]
          },
          "metadata": {},
          "execution_count": 7
        }
      ],
      "source": [
        "#erro médio quadrático\n",
        "from sklearn.metrics import mean_squared_error\n",
        "mean_squared_error(y_test, y_pred)"
      ]
    },
    {
      "cell_type": "code",
      "execution_count": null,
      "metadata": {
        "id": "lqwSRd1ikho2",
        "colab": {
          "base_uri": "https://localhost:8080/"
        },
        "outputId": "4a21ecc6-8678-471f-b6d5-022c8afd17ed"
      },
      "outputs": [
        {
          "output_type": "execute_result",
          "data": {
            "text/plain": [
              "0.5008525388478381"
            ]
          },
          "metadata": {},
          "execution_count": 8
        }
      ],
      "source": [
        "#erro médio absoluto\n",
        "from sklearn.metrics import mean_absolute_error\n",
        "mean_absolute_error(y_test, y_pred)"
      ]
    }
  ],
  "metadata": {
    "colab": {
      "provenance": []
    },
    "kernelspec": {
      "display_name": "Python 3",
      "name": "python3"
    },
    "language_info": {
      "name": "python"
    }
  },
  "nbformat": 4,
  "nbformat_minor": 0
}