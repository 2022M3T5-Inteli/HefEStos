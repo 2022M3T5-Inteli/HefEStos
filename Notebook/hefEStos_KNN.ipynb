{
  "nbformat": 4,
  "nbformat_minor": 0,
  "metadata": {
    "colab": {
      "provenance": []
    },
    "kernelspec": {
      "name": "python3",
      "display_name": "Python 3"
    },
    "language_info": {
      "name": "python"
    }
  },
  "cells": [
    {
      "cell_type": "markdown",
      "source": [
        "#Importação de bibliotecas e arquivos"
      ],
      "metadata": {
        "id": "kohAmsqQBY-A"
      }
    },
    {
      "cell_type": "code",
      "execution_count": null,
      "metadata": {
        "colab": {
          "base_uri": "https://localhost:8080/"
        },
        "id": "vhbOnS7xyr9N",
        "outputId": "c8ca15f4-e4d9-4d4f-c534-7be31f65c765"
      },
      "outputs": [
        {
          "output_type": "execute_result",
          "data": {
            "text/plain": [
              "Index(['Unnamed: 0', 'Unnamed: 0.1', 'Unnamed: 0_x', 'Data', 'Hora Início',\n",
              "       'Dia da Semana', 'Total Domicílios | Rat%', 'AB | Rat%', 'C1 | Rat%',\n",
              "       'C2 | Rat%', 'DE | Rat%', 'Masculino | Rat%', 'Feminino | Rat%',\n",
              "       '4-11 anos | Rat%', '12-17 anos | Rat%', '18-24 anos | Rat%',\n",
              "       '25-34 anos | Rat%', '35-49 anos | Rat%', '50-59 anos | Rat%',\n",
              "       '60+ anos | Rat%', 'Categoria', 'Ano', 'Dia', 'Mes', 'Feriado', '1',\n",
              "       '2', '3', '4', '5', '6', '7', '8', '9', '10', '11', '12', '13', '14',\n",
              "       '15', '16', '17', '18', '19', '20', '21', '22', '23', '24', '25', '26',\n",
              "       '27', '28', '29', '30'],\n",
              "      dtype='object')"
            ]
          },
          "metadata": {},
          "execution_count": 17
        }
      ],
      "source": [
        "from sklearn.model_selection import train_test_split\n",
        "import pandas as pd\n",
        "import numpy as np\n",
        "from sklearn.neighbors import KNeighborsClassifier\n",
        "#------------------------- IMPORTAÇÃO DE TABELAS ----------------------------\n",
        "dataset = pd.read_csv('/content/drive/Shareddrives/hefestos/CSV/Tabela_limpa_completa.csv')\n",
        "dataset.head()\n",
        "dataset.columns"
      ]
    },
    {
      "cell_type": "code",
      "source": [
        "dataset_train = dataset.sample(len(dataset))\n",
        "#remoção do output desejado\n",
        "dataset_train.drop(['Total Domicílios | Rat%'], axis=1, inplace=True)\n",
        "dataset_train.drop(['Masculino | Rat%'], axis=1, inplace=True)\n",
        "dataset_train.drop(['Feminino | Rat%'], axis=1, inplace=True)\n",
        "dataset_train.drop(['AB | Rat%'], axis=1, inplace=True)\n",
        "dataset_train.drop(['C1 | Rat%'], axis=1, inplace=True)\n",
        "dataset_train.drop(['C2 | Rat%'], axis=1, inplace=True)\n",
        "dataset_train.drop(['DE | Rat%'], axis=1, inplace=True)\n",
        "dataset_train.drop(['4-11 anos | Rat%'], axis=1, inplace=True)\n",
        "dataset_train.drop(['12-17 anos | Rat%'], axis=1, inplace=True)\n",
        "dataset_train.drop(['18-24 anos | Rat%'], axis=1, inplace=True)\n",
        "dataset_train.drop(['25-34 anos | Rat%'], axis=1, inplace=True)\n",
        "dataset_train.drop(['35-49 anos | Rat%'], axis=1, inplace=True)\n",
        "dataset_train.drop(['50-59 anos | Rat%'], axis=1, inplace=True)\n",
        "dataset_train.drop(['60+ anos | Rat%'], axis=1, inplace=True)\n",
        "dataset_train.drop(['Data'], axis=1, inplace=True)\n",
        "dataset_train.columns"
      ],
      "metadata": {
        "colab": {
          "base_uri": "https://localhost:8080/"
        },
        "id": "GtHQocJEJdkh",
        "outputId": "a7743d5b-dea1-436c-bb92-d28d19520392"
      },
      "execution_count": null,
      "outputs": [
        {
          "output_type": "execute_result",
          "data": {
            "text/plain": [
              "Index(['Unnamed: 0', 'Unnamed: 0.1', 'Unnamed: 0_x', 'Hora Início',\n",
              "       'Dia da Semana', 'Categoria', 'Ano', 'Dia', 'Mes', 'Feriado', '1', '2',\n",
              "       '3', '4', '5', '6', '7', '8', '9', '10', '11', '12', '13', '14', '15',\n",
              "       '16', '17', '18', '19', '20', '21', '22', '23', '24', '25', '26', '27',\n",
              "       '28', '29', '30'],\n",
              "      dtype='object')"
            ]
          },
          "metadata": {},
          "execution_count": 23
        }
      ]
    },
    {
      "cell_type": "code",
      "source": [
        "#Definição de output\n",
        "y = dataset['Total Domicílios | Rat%']\n",
        "#Definição de input\n",
        "X_train = dataset_train\n",
        "#Definição de teste\n",
        "X_train, X_test, y_train, y_test = train_test_split(X_train, y, test_size=0.33, random_state=1000)"
      ],
      "metadata": {
        "id": "BLf4yOCH0nqm"
      },
      "execution_count": null,
      "outputs": []
    },
    {
      "cell_type": "code",
      "source": [
        "# Instanciação do obj Algoritmo\n",
        "knn = KNeighborsClassifier(n_neighbors=7)\n",
        "# Treino # x = Features, y = Label/Target\n",
        "knn.fit(X_train, y_train.squeeze()) # squeeze() -> df para series\n",
        "# Teste de Acuracidade (accuracy)\n",
        "print('Acuracidade (treino): ', knn.score( X_train, y_train ))\n",
        "print('Acuracidade (teste): ', knn.score( X_test, y_test ))"
      ],
      "metadata": {
        "colab": {
          "base_uri": "https://localhost:8080/"
        },
        "id": "W3uSUZFTFDGo",
        "outputId": "2fc63296-8a9a-4a49-908f-8633a986f7b1"
      },
      "execution_count": null,
      "outputs": [
        {
          "output_type": "stream",
          "name": "stdout",
          "text": [
            "Acuracidade (treino):  0.25603311307953003\n",
            "Acuracidade (teste):  0.05846520192161261\n"
          ]
        }
      ]
    },
    {
      "cell_type": "code",
      "source": [
        "# realizando predições com o conjunto de teste\n",
        "y_pred = knn.predict(X_test)\n",
        "y_pred"
      ],
      "metadata": {
        "colab": {
          "base_uri": "https://localhost:8080/"
        },
        "id": "kzng-PEhKCV_",
        "outputId": "602583bc-5119-4336-98b4-5d81e450756a"
      },
      "execution_count": null,
      "outputs": [
        {
          "output_type": "execute_result",
          "data": {
            "text/plain": [
              "array([3, 7, 2, ..., 1, 9, 2])"
            ]
          },
          "metadata": {},
          "execution_count": 27
        }
      ]
    }
  ]
}